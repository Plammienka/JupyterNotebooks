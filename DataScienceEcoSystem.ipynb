{
 "cells": [
  {
   "cell_type": "code",
   "execution_count": null,
   "id": "718d7b1b-ae2b-4246-bffa-48ba6ff2596b",
   "metadata": {},
   "outputs": [],
   "source": []
  },
  {
   "cell_type": "markdown",
   "id": "735b0b9c-73a4-42d8-ab33-071d0393b1b1",
   "metadata": {},
   "source": [
    "# Data Science Tools and Ecosystem"
   ]
  },
  {
   "cell_type": "markdown",
   "id": "97f06467-be70-4590-b098-231b1515225e",
   "metadata": {},
   "source": [
    "**In this notebook, Data Science Tools and Ecosystem are summarized.**"
   ]
  },
  {
   "cell_type": "markdown",
   "id": "836d5516-3c7f-484b-aa08-f1f810d7a6c3",
   "metadata": {},
   "source": [
    "Objectives:\n",
    "- List popular languages that Data Scientists use\n",
    "- List libraries used by Data Scientists\n",
    "- List Data Science tools\n",
    "- Arithmetic calculations in Python"
   ]
  },
  {
   "cell_type": "markdown",
   "id": "1734e817-e3a8-4e07-9742-b4a6232fabb4",
   "metadata": {
    "tags": []
   },
   "source": [
    "Some of the popular languages that Data Scientists use are:\n",
    "\n",
    "1. Python\n",
    "2. R\n",
    "3. SQL\n",
    "4. Java\n",
    "5. C++"
   ]
  },
  {
   "cell_type": "markdown",
   "id": "a76f81f7-7def-42e6-97fc-0093dcba9ea9",
   "metadata": {},
   "source": [
    "Some of the commonly used libraries used by Data Scientists include:\n",
    "\n",
    "1. Pandas\n",
    "2. NumPy\n",
    "3. Matplotlib\n",
    "4. TensorFlow\n",
    "5. PyTorch\n",
    "6. ggplot2"
   ]
  },
  {
   "cell_type": "markdown",
   "id": "c3939cfb-bbcd-4f62-baf7-819341390bab",
   "metadata": {},
   "source": [
    "| Data Science Tools |\n",
    "|--------------------|\n",
    "|Apache Spark|\n",
    "|Scikit-learn|\n",
    "|TensorFlow|"
   ]
  },
  {
   "cell_type": "markdown",
   "id": "78693c28-5592-42bf-bef1-834c89b1f171",
   "metadata": {},
   "source": [
    "### Below are few examples of evaluating arithmetic expressions in Python"
   ]
  },
  {
   "cell_type": "code",
   "execution_count": 2,
   "id": "955c5b12-9ddb-4a67-be69-023d4163454d",
   "metadata": {
    "tags": []
   },
   "outputs": [
    {
     "data": {
      "text/plain": [
       "17"
      ]
     },
     "execution_count": 2,
     "metadata": {},
     "output_type": "execute_result"
    }
   ],
   "source": [
    "# This is a simple arithmetic expression to multiply then add integers.\n",
    "(3*4)+5"
   ]
  },
  {
   "cell_type": "code",
   "execution_count": 4,
   "id": "c833bb0e-cfb5-4829-8072-5bab43cb09b0",
   "metadata": {
    "tags": []
   },
   "outputs": [
    {
     "data": {
      "text/plain": [
       "3.3333333333333335"
      ]
     },
     "execution_count": 4,
     "metadata": {},
     "output_type": "execute_result"
    }
   ],
   "source": [
    "# This will convert 200 minutes to hours by dividing by 60\n",
    "200/60"
   ]
  },
  {
   "cell_type": "markdown",
   "id": "b7b320b6-c458-48bf-a8d3-eb150e527958",
   "metadata": {},
   "source": [
    "## Author\n",
    "Plamena Dimitrova"
   ]
  },
  {
   "cell_type": "code",
   "execution_count": null,
   "id": "f613588e-aca9-424e-9611-f63a84b7438d",
   "metadata": {},
   "outputs": [],
   "source": []
  }
 ],
 "metadata": {
  "kernelspec": {
   "display_name": "Python",
   "language": "python",
   "name": "conda-env-python-py"
  },
  "language_info": {
   "codemirror_mode": {
    "name": "ipython",
    "version": 3
   },
   "file_extension": ".py",
   "mimetype": "text/x-python",
   "name": "python",
   "nbconvert_exporter": "python",
   "pygments_lexer": "ipython3",
   "version": "3.7.12"
  }
 },
 "nbformat": 4,
 "nbformat_minor": 5
}
